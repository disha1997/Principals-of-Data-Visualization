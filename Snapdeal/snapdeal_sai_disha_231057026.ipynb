{
  "nbformat": 4,
  "nbformat_minor": 0,
  "metadata": {
    "colab": {
      "provenance": []
    },
    "kernelspec": {
      "name": "python3",
      "display_name": "Python 3"
    },
    "language_info": {
      "name": "python"
    }
  },
  "cells": [
    {
      "cell_type": "code",
      "source": [
        "pip install fake_useragent"
      ],
      "metadata": {
        "colab": {
          "base_uri": "https://localhost:8080/"
        },
        "id": "HplftygLGctf",
        "outputId": "996896b9-de8c-4fe4-e248-08b8a090ce85"
      },
      "execution_count": 4,
      "outputs": [
        {
          "output_type": "stream",
          "name": "stdout",
          "text": [
            "Collecting fake_useragent\n",
            "  Downloading fake_useragent-1.3.0-py3-none-any.whl (15 kB)\n",
            "Installing collected packages: fake_useragent\n",
            "Successfully installed fake_useragent-1.3.0\n"
          ]
        }
      ]
    },
    {
      "cell_type": "code",
      "execution_count": 5,
      "metadata": {
        "id": "XVOGIsSTF-8u"
      },
      "outputs": [],
      "source": [
        "from bs4 import BeautifulSoup\n",
        "import requests\n",
        "from fake_useragent import UserAgent\n",
        "import pandas as pd"
      ]
    },
    {
      "cell_type": "code",
      "source": [
        "user_agent = UserAgent()\n",
        "h = {'user_agent.agent':user_agent.chrome}\n",
        "web_urls = ['https://www.snapdeal.com/products/lifestyle-frames?q=Gender_s%3AUnisex%7C&sort=plrty#bcrumbLabelId:15', 'https://www.snapdeal.com/products/lifestyle-sunglasses?sort=plrty&q=Gender_s%3AUnisex%7C#bcrumbLabelId:15', 'https://www.snapdeal.com/products/lifestyle-sunglasses?sort=plrty&q=avgRating%3A2.0%7C#bcrumbLabelId:15', 'https://www.snapdeal.com/products/lifestyle-sunglasses?sort=plrty&q=avgRating%3A1.0%7C#bcrumbLabelId:15']\n",
        "web_url = 'https://www.snapdeal.com/products/lifestyle-sunglasses?sort=plrty'\n",
        "response = requests.get(web_url, headers=h)\n",
        "soup = BeautifulSoup(response.content,'lxml')"
      ],
      "metadata": {
        "id": "vOZwqqywGyml"
      },
      "execution_count": 29,
      "outputs": []
    },
    {
      "cell_type": "code",
      "source": [
        "names = []\n",
        "prices = []"
      ],
      "metadata": {
        "id": "rv5m9-6jHVOk"
      },
      "execution_count": 30,
      "outputs": []
    },
    {
      "cell_type": "code",
      "source": [
        "names = soup.find_all('p',class_='product-title')\n",
        "names = [i.text for i in names]"
      ],
      "metadata": {
        "id": "ZpivJv3FI8yF"
      },
      "execution_count": 31,
      "outputs": []
    },
    {
      "cell_type": "code",
      "source": [
        "for i in soup.find_all('div',class_='lfloat marR10'):\n",
        "  prices.append(i.text)"
      ],
      "metadata": {
        "id": "akXAH_V2H2Y1"
      },
      "execution_count": 32,
      "outputs": []
    },
    {
      "cell_type": "code",
      "source": [
        "prices = soup.find_all('div',class_='lfloat marR10')\n",
        "prices = [i.text for i in prices]"
      ],
      "metadata": {
        "id": "JwsY37VPISFJ"
      },
      "execution_count": 33,
      "outputs": []
    },
    {
      "cell_type": "code",
      "source": [
        "web_url = 'https://www.snapdeal.com/products/lifestyle-frames?q=Gender_s%3AUnisex%7C&sort=plrty#bcrumbLabelId:15'\n",
        "response = requests.get(web_url, headers=h)\n",
        "soup = BeautifulSoup(response.content,'lxml')"
      ],
      "metadata": {
        "id": "vR2jIDtbJry1"
      },
      "execution_count": 34,
      "outputs": []
    },
    {
      "cell_type": "code",
      "source": [
        "names1 = soup.find_all('p',class_='product-title')\n",
        "names1 = [i.text for i in names1]"
      ],
      "metadata": {
        "id": "vd3gnkqFKP2l"
      },
      "execution_count": 35,
      "outputs": []
    },
    {
      "cell_type": "code",
      "source": [
        "names.extend(names1)"
      ],
      "metadata": {
        "id": "81s1xdcMK6Cn"
      },
      "execution_count": 36,
      "outputs": []
    },
    {
      "cell_type": "code",
      "source": [
        "prices1 = soup.find_all('div',class_='lfloat marR10')\n",
        "prices1 = [i.text for i in prices1]"
      ],
      "metadata": {
        "id": "jXwA8QnTLJNv"
      },
      "execution_count": 37,
      "outputs": []
    },
    {
      "cell_type": "code",
      "source": [
        "prices.extend(prices1)"
      ],
      "metadata": {
        "id": "F8uvbYwXLWSf"
      },
      "execution_count": 38,
      "outputs": []
    },
    {
      "cell_type": "code",
      "source": [
        "for url in web_urls:\n",
        "  response = requests.get(url, headers=h)\n",
        "  soup = BeautifulSoup(response.content,'lxml')\n",
        "  names3 = soup.find_all('p',class_='product-title')\n",
        "  names3 = [i.text for i in names3]\n",
        "  names.extend(names3)\n",
        "  prices3 = soup.find_all('div',class_='lfloat marR10')\n",
        "  prices3 = [i.text for i in prices3]\n",
        "  prices.extend(prices3)"
      ],
      "metadata": {
        "id": "of9Bk9qPaM-2"
      },
      "execution_count": 59,
      "outputs": []
    },
    {
      "cell_type": "code",
      "source": [
        "print(len(names))\n",
        "print(len(prices))"
      ],
      "metadata": {
        "colab": {
          "base_uri": "https://localhost:8080/"
        },
        "id": "_0W4S4tmOL7Z",
        "outputId": "3312b6ea-04b2-409c-87f3-abafe83cf6bd"
      },
      "execution_count": 49,
      "outputs": [
        {
          "output_type": "stream",
          "name": "stdout",
          "text": [
            "100\n",
            "100\n"
          ]
        }
      ]
    },
    {
      "cell_type": "code",
      "source": [
        "d = {'names':names,'prices':prices}\n",
        "df = pd.DataFrame(d)\n",
        "df.to_csv('output.csv')"
      ],
      "metadata": {
        "id": "pm9DpbEKO7Jo"
      },
      "execution_count": 52,
      "outputs": []
    }
  ]
}