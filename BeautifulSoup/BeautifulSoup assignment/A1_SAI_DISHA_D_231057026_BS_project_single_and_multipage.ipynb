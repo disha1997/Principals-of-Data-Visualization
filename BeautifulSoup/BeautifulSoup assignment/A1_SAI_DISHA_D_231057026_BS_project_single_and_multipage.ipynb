{
  "nbformat": 4,
  "nbformat_minor": 0,
  "metadata": {
    "colab": {
      "provenance": [],
      "collapsed_sections": [
        "-UFAnZDxQqIR"
      ]
    },
    "kernelspec": {
      "name": "python3",
      "display_name": "Python 3"
    },
    "language_info": {
      "name": "python"
    }
  },
  "cells": [
    {
      "cell_type": "markdown",
      "source": [
        "# Single Page Scraping"
      ],
      "metadata": {
        "id": "ki89B84nJhdZ"
      }
    },
    {
      "cell_type": "markdown",
      "source": [
        "## To scrape all players who won medal for India in Olympics"
      ],
      "metadata": {
        "id": "1E6vAtU3Ql9h"
      }
    },
    {
      "cell_type": "markdown",
      "source": [
        "1. To parse a single page website and store the content in a text file\n",
        "2. Here I have chosen to scrape all the players who won medal for india in olympics from website:https://olympics.com/en/news/india-olympics-medals\n",
        "3. All the players' details from the website are extracted and stored in players.txt file.\n"
      ],
      "metadata": {
        "id": "jE8Y5ybl8er_"
      }
    },
    {
      "cell_type": "code",
      "execution_count": 1,
      "metadata": {
        "id": "OU-Bf8a30XBQ"
      },
      "outputs": [],
      "source": [
        "import requests\n",
        "from bs4 import BeautifulSoup"
      ]
    },
    {
      "cell_type": "code",
      "source": [
        "import texttable as tt\n",
        "from fake_useragent import UserAgent\n",
        "\n",
        "user_agent = UserAgent()\n",
        "url = 'https://olympics.com/en/news/india-olympics-medals'\n",
        "page = requests.get(url, headers={'user-agent':user_agent.chrome})\n",
        "soup = BeautifulSoup(page.text, 'lxml')\n",
        "\n",
        "data = []\n",
        "data_iterator = iter(soup.find_all('td'))\n",
        "\n",
        "while True:\n",
        "  try:\n",
        "    athelete = next(data_iterator).text\n",
        "    medal = next(data_iterator).text\n",
        "    sport = next(data_iterator).text\n",
        "    place = next(data_iterator).text\n",
        "\n",
        "    data.append((athelete, medal, sport, place))\n",
        "\n",
        "  except StopIteration:\n",
        "    break\n",
        "\n",
        "table = tt.Texttable()\n",
        "table.add_rows([(None, None, None, None)] + data)  # Add an empty row at the beginning for the headers\n",
        "table.set_cols_align(('c', 'c','c','c'))  # 'l' denotes left, 'c' denotes center, and 'r' denotes right\n",
        "table.header(('athelete', 'medal', 'sport', 'place'))\n",
        "\n",
        "print(table.draw())"
      ],
      "metadata": {
        "colab": {
          "base_uri": "https://localhost:8080/"
        },
        "id": "JwRc5Plj4rte",
        "outputId": "308a9a4c-2f27-4c9c-8b41-f9937edd4420"
      },
      "execution_count": 8,
      "outputs": [
        {
          "output_type": "stream",
          "name": "stdout",
          "text": [
            "+-------------------------+--------+------------------------+------------------+\n",
            "|        athelete         | medal  |         sport          |      place       |\n",
            "+=========================+========+========================+==================+\n",
            "|    Norman Pritchard     | Silver |       Men's 200m       |    Paris 1900    |\n",
            "+-------------------------+--------+------------------------+------------------+\n",
            "|    Norman Pritchard     | Silver |   Men's 200m hurdles   |    Paris 1900    |\n",
            "+-------------------------+--------+------------------------+------------------+\n",
            "|   Indian hockey team    |  Gold  |      Men's hockey      |  Amsterdam 1928  |\n",
            "+-------------------------+--------+------------------------+------------------+\n",
            "|   Indian hockey team    |  Gold  |      Men's hockey      | Los Angeles 1932 |\n",
            "+-------------------------+--------+------------------------+------------------+\n",
            "|   Indian hockey team    |  Gold  |      Men's hockey      |   Berlin 1936    |\n",
            "+-------------------------+--------+------------------------+------------------+\n",
            "|   Indian hockey team    |  Gold  |      Men's hockey      |   London 1948    |\n",
            "+-------------------------+--------+------------------------+------------------+\n",
            "|   Indian hockey team    |  Gold  |      Men's hockey      |  Helsinki 1952   |\n",
            "+-------------------------+--------+------------------------+------------------+\n",
            "|        KD Jadhav        | Bronze |   Men's bantamweight   |  Helsinki 1952   |\n",
            "|                         |        |       wrestling        |                  |\n",
            "+-------------------------+--------+------------------------+------------------+\n",
            "|   Indian hockey team    |  Gold  |      Men's hockey      |  Melbourne 1956  |\n",
            "+-------------------------+--------+------------------------+------------------+\n",
            "|   Indian hockey team    | Silver |      Men's hockey      |    Rome 1960     |\n",
            "+-------------------------+--------+------------------------+------------------+\n",
            "|   Indian hockey team    |  Gold  |      Men's hockey      |    Tokyo 1964    |\n",
            "+-------------------------+--------+------------------------+------------------+\n",
            "|   Indian hockey team    | Bronze |      Men's hockey      | Mexico City 1968 |\n",
            "+-------------------------+--------+------------------------+------------------+\n",
            "|   Indian hockey team    | Bronze |      Men's hockey      |   Munich 1972    |\n",
            "+-------------------------+--------+------------------------+------------------+\n",
            "|   Indian hockey team    |  Gold  |      Men's hockey      |   Moscow 1980    |\n",
            "+-------------------------+--------+------------------------+------------------+\n",
            "|      Leander Paes       | Bronze |  Men's singles tennis  |   Atlanta 1996   |\n",
            "+-------------------------+--------+------------------------+------------------+\n",
            "|    Karnam Malleswari    | Bronze |      Women's 54kg      |   Sydney 2000    |\n",
            "|                         |        |     weightlifting      |                  |\n",
            "+-------------------------+--------+------------------------+------------------+\n",
            "|   Rajyavardhan Singh    | Silver |   Men's double trap    |   Athens 2004    |\n",
            "|         Rathore         |        |        shooting        |                  |\n",
            "+-------------------------+--------+------------------------+------------------+\n",
            "|     Abhinav Bindra      |  Gold  |  Men's 10m air rifle   |   Beijing 2008   |\n",
            "|                         |        |        shooting        |                  |\n",
            "+-------------------------+--------+------------------------+------------------+\n",
            "|     Vijender Singh      | Bronze |   Men's middleweight   |   Beijing 2008   |\n",
            "|                         |        |         boxing         |                  |\n",
            "+-------------------------+--------+------------------------+------------------+\n",
            "|      Sushil Kumar       | Bronze |  Men's 66kg wrestling  |   Beijing 2008   |\n",
            "+-------------------------+--------+------------------------+------------------+\n",
            "|      Sushil Kumar       | Silver |  Men's 66kg wrestling  |   London 2012    |\n",
            "+-------------------------+--------+------------------------+------------------+\n",
            "|       Vijay Kumar       | Silver | Men's 25m rapid pistol |   London 2012    |\n",
            "|                         |        |        shooting        |                  |\n",
            "+-------------------------+--------+------------------------+------------------+\n",
            "|      Saina Nehwal       | Bronze |    Women's singles     |   London 2012    |\n",
            "|                         |        |       badminton        |                  |\n",
            "+-------------------------+--------+------------------------+------------------+\n",
            "|        Mary Kom         | Bronze |   Women's flyweight    |   London 2012    |\n",
            "|                         |        |         boxing         |                  |\n",
            "+-------------------------+--------+------------------------+------------------+\n",
            "|     Yogeshwar Dutt      | Bronze |  Men's 60kg wrestling  |   London 2012    |\n",
            "+-------------------------+--------+------------------------+------------------+\n",
            "|      Gagan Narang       | Bronze |  Men's 10m air rifle   |   London 2012    |\n",
            "|                         |        |        shooting        |                  |\n",
            "+-------------------------+--------+------------------------+------------------+\n",
            "|        PV Sindhu        | Silver |    Women's singles     |     Rio 2016     |\n",
            "|                         |        |       badminton        |                  |\n",
            "+-------------------------+--------+------------------------+------------------+\n",
            "|      Sakshi Malik       | Bronze | Women's 58kg wrestling |     Rio 2016     |\n",
            "+-------------------------+--------+------------------------+------------------+\n",
            "|      Mirabai Chanu      | Silver |      Women's 49kg      |    Tokyo 2020    |\n",
            "|                         |        |     weightlifting      |                  |\n",
            "+-------------------------+--------+------------------------+------------------+\n",
            "|    Lovlina Borgohain    | Bronze |  Women's welterweight  |    Tokyo 2020    |\n",
            "|                         |        |         boxing         |                  |\n",
            "+-------------------------+--------+------------------------+------------------+\n",
            "|        PV Sindhu        | Bronze |    Women's singles     |    Tokyo 2020    |\n",
            "|                         |        |       badminton        |                  |\n",
            "+-------------------------+--------+------------------------+------------------+\n",
            "|    Ravi Kumar Dahiya    | Silver |  Men's 57kg wrestling  |    Tokyo 2020    |\n",
            "+-------------------------+--------+------------------------+------------------+\n",
            "|   Indian hockey team    | Bronze |      Men's hockey      |    Tokyo 2020    |\n",
            "+-------------------------+--------+------------------------+------------------+\n",
            "|      Bajrang Punia      | Bronze |  Men's 65kg wrestling  |    Tokyo 2020    |\n",
            "+-------------------------+--------+------------------------+------------------+\n",
            "|      Neeraj Chopra      |  Gold  |  Men's javelin throw   |    Tokyo 2020    |\n",
            "+-------------------------+--------+------------------------+------------------+\n"
          ]
        }
      ]
    },
    {
      "cell_type": "code",
      "source": [
        "with open(\"players.txt\", \"w\") as file:\n",
        "  for t in data:\n",
        "      file.write(f\" {t[0]}  {t[1]} {t[2]} {t[3]}  '\\n'\")"
      ],
      "metadata": {
        "id": "bEYAM_qs4rpA"
      },
      "execution_count": 12,
      "outputs": []
    },
    {
      "cell_type": "markdown",
      "source": [
        "# Multi page Web Scraping"
      ],
      "metadata": {
        "id": "-UFAnZDxQqIR"
      }
    },
    {
      "cell_type": "markdown",
      "source": [
        "1. Here I used this website: https://subslikescript.com/ where all movies and tv shows names along with their plot summaries are present.\n",
        "2. I have extracted plot summaries of a particular tv series called Planet-Earth-II and stored it in plots.txt file"
      ],
      "metadata": {
        "id": "xf7emBR0P_lB"
      }
    },
    {
      "cell_type": "code",
      "source": [
        "pip install fake_useragent"
      ],
      "metadata": {
        "colab": {
          "base_uri": "https://localhost:8080/"
        },
        "id": "ELn9DZdQ1uE8",
        "outputId": "f818bed5-61ae-409b-8e5d-cb850d253a53"
      },
      "execution_count": null,
      "outputs": [
        {
          "output_type": "stream",
          "name": "stdout",
          "text": [
            "Collecting fake_useragent\n",
            "  Downloading fake_useragent-1.2.1-py3-none-any.whl (14 kB)\n",
            "Installing collected packages: fake_useragent\n",
            "Successfully installed fake_useragent-1.2.1\n"
          ]
        }
      ]
    },
    {
      "cell_type": "code",
      "source": [
        "from fake_useragent import UserAgent\n",
        "import re\n",
        "\n",
        "user_agent = UserAgent()\n",
        "main_url = 'https://subslikescript.com/series/Planet_Earth_II-5491994'\n",
        "page = requests.get(main_url,headers={'user-agent':user_agent.chrome})\n",
        "soup = BeautifulSoup(page.content,'lxml')\n",
        "\n",
        "base_url = 'https://subslikescript.com/'\n",
        "\n",
        "print('Printing all relative urls')\n",
        "links = [link['href'] for link in soup.find_all('a', href=True)]\n",
        "for i in links:\n",
        "  print(i, end='\\n')\n",
        "\n",
        "print('Printing all absolute urls')\n",
        "links = [link['href'] for link in soup.find_all('a', href=True)]\n",
        "all_links = []\n",
        "\n",
        "for i in links:\n",
        "  print(base_url + i)\n",
        "  all_links.append(base_url+i)"
      ],
      "metadata": {
        "colab": {
          "base_uri": "https://localhost:8080/"
        },
        "id": "XjjIGPRzQto3",
        "outputId": "3ee9c717-fc33-4a5f-c34a-71ef8500a73a"
      },
      "execution_count": 53,
      "outputs": [
        {
          "output_type": "stream",
          "name": "stdout",
          "text": [
            "Printing all relative urls\n",
            "/\n",
            "/movies\n",
            "/series\n",
            "/\n",
            "/series\n",
            "/series/Planet_Earth_II-5491994/season-1/episode-1-Islands\n",
            "/series/Planet_Earth_II-5491994/season-1/episode-2-Mountains\n",
            "/series/Planet_Earth_II-5491994/season-1/episode-3-Jungles\n",
            "/series/Planet_Earth_II-5491994/season-1/episode-4-Deserts\n",
            "/series/Planet_Earth_II-5491994/season-1/episode-5-Grasslands\n",
            "/series/Planet_Earth_II-5491994/season-1/episode-6-Cities\n",
            "/dmca\n",
            "Printing all absolute urls\n",
            "https://subslikescript.com//\n",
            "https://subslikescript.com//movies\n",
            "https://subslikescript.com//series\n",
            "https://subslikescript.com//\n",
            "https://subslikescript.com//series\n",
            "https://subslikescript.com//series/Planet_Earth_II-5491994/season-1/episode-1-Islands\n",
            "https://subslikescript.com//series/Planet_Earth_II-5491994/season-1/episode-2-Mountains\n",
            "https://subslikescript.com//series/Planet_Earth_II-5491994/season-1/episode-3-Jungles\n",
            "https://subslikescript.com//series/Planet_Earth_II-5491994/season-1/episode-4-Deserts\n",
            "https://subslikescript.com//series/Planet_Earth_II-5491994/season-1/episode-5-Grasslands\n",
            "https://subslikescript.com//series/Planet_Earth_II-5491994/season-1/episode-6-Cities\n",
            "https://subslikescript.com//dmca\n"
          ]
        }
      ]
    },
    {
      "cell_type": "code",
      "source": [
        "pattern = r'season-1/episode-'\n",
        "filtered_links = list(filter(lambda link: re.search(pattern, link), all_links))\n",
        "for link in filtered_links:\n",
        "    print(link)"
      ],
      "metadata": {
        "id": "eVHY8Eyq1g2n",
        "colab": {
          "base_uri": "https://localhost:8080/"
        },
        "outputId": "da4dd3b0-73d6-45a9-e1ad-5a86bf40aaf0"
      },
      "execution_count": 54,
      "outputs": [
        {
          "output_type": "stream",
          "name": "stdout",
          "text": [
            "https://subslikescript.com//series/Planet_Earth_II-5491994/season-1/episode-1-Islands\n",
            "https://subslikescript.com//series/Planet_Earth_II-5491994/season-1/episode-2-Mountains\n",
            "https://subslikescript.com//series/Planet_Earth_II-5491994/season-1/episode-3-Jungles\n",
            "https://subslikescript.com//series/Planet_Earth_II-5491994/season-1/episode-4-Deserts\n",
            "https://subslikescript.com//series/Planet_Earth_II-5491994/season-1/episode-5-Grasslands\n",
            "https://subslikescript.com//series/Planet_Earth_II-5491994/season-1/episode-6-Cities\n"
          ]
        }
      ]
    },
    {
      "cell_type": "code",
      "source": [
        "plots = []\n",
        "for link in all_links:\n",
        "  final_page = requests.get(link)\n",
        "  final_soup = BeautifulSoup(final_page.content, 'lxml')\n",
        "  plot = final_soup.find('p', attrs={'class':'plot'})\n",
        "  if plot:\n",
        "    plots.append(plot.text.strip())"
      ],
      "metadata": {
        "id": "DHby4KwH7dqa"
      },
      "execution_count": 55,
      "outputs": []
    },
    {
      "cell_type": "code",
      "source": [
        "with open(\"plots.txt\", \"w\") as file:\n",
        "  for p in plots:\n",
        "      file.write(p + \"\\n\")"
      ],
      "metadata": {
        "id": "hepWIj9UNZuz"
      },
      "execution_count": 56,
      "outputs": []
    },
    {
      "cell_type": "code",
      "source": [],
      "metadata": {
        "id": "drMX5EHyAOa9"
      },
      "execution_count": null,
      "outputs": []
    }
  ]
}